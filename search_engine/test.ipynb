{
 "cells": [
  {
   "cell_type": "code",
   "execution_count": 1,
   "metadata": {},
   "outputs": [
    {
     "name": "stderr",
     "output_type": "stream",
     "text": [
      "e:\\chatbot_for_electronics_store\\.venv\\Lib\\site-packages\\tqdm\\auto.py:21: TqdmWarning: IProgress not found. Please update jupyter and ipywidgets. See https://ipywidgets.readthedocs.io/en/stable/user_install.html\n",
      "  from .autonotebook import tqdm as notebook_tqdm\n"
     ]
    }
   ],
   "source": [
    "from raw_search import BM25\n",
    "from rerank import ReRanker"
   ]
  },
  {
   "cell_type": "code",
   "execution_count": 2,
   "metadata": {},
   "outputs": [],
   "source": [
    "q = 'điện thoại samsung s24 ultra'\n",
    "k = 10"
   ]
  },
  {
   "cell_type": "code",
   "execution_count": 3,
   "metadata": {},
   "outputs": [],
   "source": [
    "bm25 = BM25()\n",
    "bm25.load_data_by_using_db()\n",
    "top_k = bm25.search(q, k)"
   ]
  },
  {
   "cell_type": "code",
   "execution_count": 4,
   "metadata": {},
   "outputs": [
    {
     "name": "stderr",
     "output_type": "stream",
     "text": [
      "Asking to truncate to max_length but no maximum length is provided and the model has no predefined maximum length. Default to no truncation.\n"
     ]
    }
   ],
   "source": [
    "rerank = ReRanker()\n",
    "new_top_k = rerank.rank(q, top_k)"
   ]
  },
  {
   "cell_type": "code",
   "execution_count": 5,
   "metadata": {},
   "outputs": [
    {
     "name": "stdout",
     "output_type": "stream",
     "text": [
      "[('Điện thoại Samsung Galaxy S23 FE 5G 8GB/128GB ', tensor([0.5447])), ('Điện thoại Samsung Galaxy A35 - 8GB/128GB ', tensor([0.5391])), ('Điện thoại Samsung Galaxy S23 Ultra 8GB/256GB ', tensor([0.5360])), ('Điện thoại  Samsung Galaxy Z Flip5 8GB/512GB ', tensor([0.5353])), ('Điện Thoại AI - Samsung Galaxy S24 Plus - 12GB/256GB - Chính Hãng', tensor([0.5325])), ('Điện thoại Samsung Galaxy Z Flip5 8GB/256GB', tensor([0.5301])), ('Điện Thoại AI - Samsung Galaxy S24 Ultra - 12GB/512GB - Chính hãng', tensor([0.5282])), ('Samsung Galaxy Watch Ultra 47mm LTE (L705) - Chính hãng', tensor([0.5278])), ('Điện Thoại AI - Samsung Galaxy S24 Ultra - 12GB/1TB - Chính hãng', tensor([0.5269])), ('Điện Thoại AI - Samsung Galaxy S24 Ultra - 12GB/256GB - Chính hãng', tensor([0.5245]))]\n"
     ]
    }
   ],
   "source": [
    "print(new_top_k)"
   ]
  },
  {
   "cell_type": "code",
   "execution_count": 7,
   "metadata": {},
   "outputs": [
    {
     "data": {
      "text/plain": [
       "[('sản phẩm Điện Thoại AI - Samsung Galaxy S24 Ultra - 12GB/1TB - Chính hãng. có giá hiện tại là 42,490,000 ₫ nhưng trước đây nó có giá là 44,490,000 ₫. màu sắc: Màu Đen, Xám, Màu Vàng, Màu Tím. Độ phân giải camera: 12.0 MP. 200.0 MP (f/1.7) + 50.0 MP (f/3.4) + 12.0 MP (f/2.2) + 10.0 MP (f/2.4); Số khe SIM: Nano-SIM (4FF),Embedded-SIM; Bộ nhớ trong: 1TB; Hệ điều hành: Android 14; Mạng di động: 5G; Vi xử lý: Snapdragon 8 Gen 3; Công nghệ màn hình: Dynamic AMOLED 2X; Độ phân giải: 3120  x  1440; Kích thước màn hình: 6.8\"; Dung lượng pin sản phẩm: 5000mAh;. . ưu đãi 1:1. Trúng 8386 quà - Tổng giá trị tới 250 TRIỆU ĐỒNG (Áp dụng từ 10/01 - 02/02/2025). (Xem chi tiết). 2. Đặc biệt Trả góp 3 không: 0% lãi suất - 0 phí chuyển đổi - 0 trả trước (Áp dụng cho Samsung Finance+, công ty tài chính và thẻ tín dụng). 3. Giảm thêm 1 triệu đồng khi mua Watch6 Classic 43mm BT (R950) hoặc Watch6 Classic 47mm BT (R960) cùng với Flip6, Fold6, Flip5, Fold5, S24 series, S23 Ultra, S23 FE, A35, A55. 4. Giảm thêm 100.000đ khi mua Samsung Galaxy Fit3 cùng với điện thoại Samsung Galaxy. 5. Giảm thêm 1 triệu đồng khi mua Watch7 kèm với Z Fold6, Z Flip6, S24 series, S23 series, A55, A35 hoặc Giảm thêm 2.5 triệu đồng khi mua Watch Ultra cùng với Fold6, Z Flip6, S24 series, S23 series (LH hotline 1900 2091). (Xem chi tiết). ưu đãi 2:1. Trả góp tới 06 tháng không lãi suất, trả trước 0 đồng với Samsung Finance+.. (Xem chi tiết). 2. Thu cũ đổi mới lên đời điện thoại Android & Máy tính bảng, tiết kiệm tới 20 triệu đồng. (Xem chi tiết). 3. Giảm 50% tối đa 700.000đ khi mở thẻ tín dụng Vpbank trên SenID. (Xem chi tiết). 4. Giảm tới 500.000đ khi thanh toán thẻ tín dụng NCB. (Xem chi tiết). 5. Giảm đến 150.000đ khi thanh toán qua Muadee. (Xem chi tiết). 6. Miễn phí chuyển đổi trả góp hoặc giảm đến 500.000đ khi mở thẻ TPBank EVO. (Xem chi tiết). 7. Mở thẻ tín dụng VIB - Nhận Voucher 600.000đ. (Xem chi tiết). 8. Giảm thêm 100.000đ cho tất cả các sản phẩm màn hình khi mua kèm Laptop, MacBook, Máy tính bảng và Điện thoại.. 9. Tặng miễn phí phôi sim khi mua điện thoại, máy tính bảng, laptop hoặc phụ kiện tại Hoàng Hà Mobile. (Xem chi tiết). 10. Mở thẻ HSBC - Hoàn tiền tới 2 triệu đồng. (Xem chi tiết)',\n",
       "  'Điện Thoại AI - Samsung Galaxy S24 Ultra - 12GB/1TB - Chính hãng'),\n",
       " ('sản phẩm Điện Thoại AI - Samsung Galaxy S24 Plus - 12GB/256GB - Chính Hãng. có giá hiện tại là 17,990,000 ₫ nhưng trước đây nó có giá là 26,990,000 ₫. màu sắc: Màu Tím, Màu Đen, Xám, Màu Vàng. Số khe SIM: Nano-SIM (4FF),Embedded-SIM; Độ phân giải camera: 12.0 MP. (F2.2). 50.0 MP (f/1.8) + 10.0 MP (f/2.2) + 12.0 MP (f/2.2); Bộ nhớ trong: 256GB; Hệ điều hành: Android 14; Mạng di động: 5G; Vi xử lý: Exynos 2400; Công nghệ màn hình: Dynamic AMOLED 2X; Độ phân giải: 3120  x  1440; Kích thước màn hình: 6.7\"; Dung lượng pin sản phẩm: 4900mAh;. . ưu đãi 1:1. Trúng 8386 quà - Tổng giá trị tới 250 TRIỆU ĐỒNG (Áp dụng từ 10/01 - 02/02/2025). (Xem chi tiết). 2. Đặc biệt Trả góp 3 không: 0% lãi suất - 0 phí chuyển đổi - 0 trả trước (Áp dụng cho Samsung Finance+, công ty tài chính và thẻ tín dụng). 3. Giảm thêm 1 triệu đồng khi mua Watch6 Classic 43mm BT (R950) hoặc Watch6 Classic 47mm BT (R960) cùng với Flip6, Fold6, Flip5, Fold5, S24 series, S23 Ultra, S23 FE, A35, A55. 4. Giảm thêm 100.000đ khi mua Samsung Galaxy Fit3 cùng với điện thoại Samsung Galaxy. 5. Giảm thêm 1 triệu đồng khi mua Watch7 kèm với Z Fold6, Z Flip6, S24 series, S23 series, A55, A35 hoặc Giảm thêm 2.5 triệu đồng khi mua Watch Ultra cùng với Fold6, Z Flip6, S24 series, S23 series (LH hotline 1900 2091). (Xem chi tiết). ưu đãi 2:1. Trả góp tới 06 tháng không lãi suất, trả trước 0 đồng với Samsung Finance+.. (Xem chi tiết). 2. Thu cũ đổi mới lên đời điện thoại Android & Máy tính bảng, tiết kiệm tới 20 triệu đồng. (Xem chi tiết). 3. Giảm 50% tối đa 700.000đ khi mở thẻ tín dụng Vpbank trên SenID. (Xem chi tiết). 4. Trả góp 0% - Trả trước 0đ. 5. Giảm tới 500.000đ khi thanh toán thẻ tín dụng NCB. (Xem chi tiết). 6. Giảm đến 150.000đ khi thanh toán qua Muadee. (Xem chi tiết). 7. Miễn phí chuyển đổi trả góp hoặc giảm đến 500.000đ khi mở thẻ TPBank EVO. (Xem chi tiết). 8. Mở thẻ tín dụng VIB - Nhận Voucher 600.000đ. (Xem chi tiết). 9. Giảm thêm 100.000đ cho tất cả các sản phẩm màn hình khi mua kèm Laptop, MacBook, Máy tính bảng và Điện thoại.. 10. Tặng miễn phí phôi sim khi mua điện thoại, máy tính bảng, laptop hoặc phụ kiện tại Hoàng Hà Mobile. (Xem chi tiết). 11. Mở thẻ HSBC - Hoàn tiền tới 2 triệu đồng. (Xem chi tiết)',\n",
       "  'Điện Thoại AI - Samsung Galaxy S24 Plus - 12GB/256GB - Chính Hãng'),\n",
       " ('sản phẩm Samsung Galaxy Watch Ultra 47mm LTE (L705) - Chính hãng. có giá hiện tại là 16,990,000 ₫ nhưng trước đây nó có giá là 16,990,000 ₫. màu sắc: Xám, Trắng, Bạc. Kích thước màn hình: 1.47\"; Dung lượng pin: 590 mAh; CPU: Exynos W1000 (5 nhân, 3nm); Kích thước: 47.4 x 47.4 x 12.1; Trọng lượng: 94g; Thời gian sử dụng tối đa: Lên đến 100h; Thiết kế mặt đồng hồ: Mặt vuông;. . ưu đãi 1:1. Trúng 8386 quà - Tổng giá trị tới 250 TRIỆU ĐỒNG (Áp dụng từ 10/01 - 02/02/2025). (Xem chi tiết). 2. Giảm thêm 1.3 triệu đồng. 3. Giảm thêm 2 triệu đồng qua Galaxy Gift hoặc Giảm thêm 3,000,000đ khi mua Watch Ultra cùng với Z Fold6, Z Flip6, Flip5, Fold5, S24 series, S23 Ultra, S24 FE, S23 FE. 4. Đặc biệt Trả góp 3 không: 0% lãi suất - 0 phí chuyển đổi - 0 trả trước (Áp dụng cho Samsung Finance+, công ty tài chính và thẻ tín dụng). ưu đãi 2:1. Trả góp tới 06 tháng không lãi suất, trả trước 0 đồng với Samsung Finance+.. (Xem chi tiết). 2. Giảm 50% tối đa 700.000đ khi mở thẻ tín dụng Vpbank trên SenID. (Xem chi tiết). 3. Giảm tới 500.000đ khi thanh toán thẻ tín dụng NCB. (Xem chi tiết). 4. Giảm đến 150.000đ khi thanh toán qua Muadee. (Xem chi tiết). 5. Miễn phí chuyển đổi trả góp hoặc giảm đến 500.000đ khi mở thẻ TPBank EVO. (Xem chi tiết). 6. Mở thẻ tín dụng VIB - Nhận Voucher 600.000đ. (Xem chi tiết). 7. Mở thẻ HSBC - Hoàn tiền tới 2 triệu đồng. (Xem chi tiết)',\n",
       "  'Samsung Galaxy Watch Ultra 47mm LTE (L705) - Chính hãng'),\n",
       " ('sản phẩm Điện thoại Samsung Galaxy S23 Ultra 8GB/256GB . có giá hiện tại là 20,890,000 ₫ nhưng trước đây nó có giá là 31,990,000 ₫. màu sắc: Xanh, Màu Đen, Kem, Màu Tím. Độ phân giải camera: 12MP. 200MP (f/1.7) x 12MP (f/2.2) x 10MP (f/4.9)  x 10MP (f/2.4); Bộ nhớ trong: 256GB; Số khe SIM: 2 Nano SIM hoặc 1 Nano SIM + 1 eSIM; Hệ điều hành: Android 13; Mạng di động: 5G; Vi xử lý: Snapdragon 8 Gen 2; Công nghệ màn hình: Dynamic AMOLED 2X; Độ phân giải: 3088  x  1440; Kích thước màn hình: 6.8\"; Dung lượng pin sản phẩm: 5000mAh;. . ưu đãi 1:1. Trúng 8386 quà - Tổng giá trị tới 250 TRIỆU ĐỒNG (Áp dụng từ 10/01 - 02/02/2025). (Xem chi tiết). 2. Đặc biệt Trả góp 3 không: 0% lãi suất - 0 phí chuyển đổi - 0 trả trước (Áp dụng cho Samsung Finance+, công ty tài chính và thẻ tín dụng). 3. Giảm thêm 1 triệu đồng khi mua Watch6 Classic 43mm BT (R950) hoặc Watch6 Classic 47mm BT (R960) cùng với Flip6, Fold6, Flip5, Fold5, S24 series, S23 Ultra, S23 FE, A35, A55. 4. Giảm thêm 100.000đ khi mua Samsung Galaxy Fit3 cùng với điện thoại Samsung Galaxy. 5. Giảm thêm 1 triệu đồng khi mua Watch7 kèm với Z Fold6, Z Flip6, S24 series, S23 series, A55, A35 hoặc Giảm thêm 2.5 triệu đồng khi mua Watch Ultra cùng với Fold6, Z Flip6, S24 series, S23 series (LH hotline 1900 2091). (Xem chi tiết). ưu đãi 2:1. Trả góp tới 06 tháng không lãi suất, trả trước 0 đồng với Samsung Finance+.. (Xem chi tiết). 2. Thu cũ đổi mới lên đời điện thoại Android & Máy tính bảng, tiết kiệm tới 20 triệu đồng. (Xem chi tiết). 3. Giảm 50% tối đa 700.000đ khi mở thẻ tín dụng Vpbank trên SenID. (Xem chi tiết). 4. Giảm tới 500.000đ khi thanh toán thẻ tín dụng NCB. (Xem chi tiết). 5. Giảm đến 150.000đ khi thanh toán qua Muadee. (Xem chi tiết). 6. Miễn phí chuyển đổi trả góp hoặc giảm đến 500.000đ khi mở thẻ TPBank EVO. (Xem chi tiết). 7. Mở thẻ tín dụng VIB - Nhận Voucher 600.000đ. (Xem chi tiết). 8. Giảm thêm tới 1 triệu động khi tham gia Thu cũ - Lên đời điện thoại Android. (Xem chi tiết). 9. Giảm thêm 100.000đ cho tất cả các sản phẩm màn hình khi mua kèm Laptop, MacBook, Máy tính bảng và Điện thoại.. 10. Tặng miễn phí phôi sim khi mua điện thoại, máy tính bảng, laptop hoặc phụ kiện tại Hoàng Hà Mobile. (Xem chi tiết). 11. Mở thẻ HSBC - Hoàn tiền tới 2 triệu đồng. (Xem chi tiết)',\n",
       "  'Điện thoại Samsung Galaxy S23 Ultra 8GB/256GB '),\n",
       " ('sản phẩm Điện Thoại AI - Samsung Galaxy S24 Ultra - 12GB/256GB - Chính hãng. có giá hiện tại là 27,490,000 ₫ nhưng trước đây nó có giá là 33,990,000 ₫. màu sắc: Màu Đen, Xám, Màu Vàng, Màu Tím. Độ phân giải camera: 12.0 MP. 200.0 MP (f/1.7) + 50.0 MP (f/3.4) + 12.0 MP (f/2.2) + 10.0 MP (f/2.4); Số khe SIM: Nano-SIM (4FF),Embedded-SIM; Bộ nhớ trong: 256GB; Hệ điều hành: Android 14; Mạng di động: 5G; Vi xử lý: Snapdragon 8 Gen 3; Công nghệ màn hình: Dynamic AMOLED 2X; Độ phân giải: 3120  x  1440; Kích thước màn hình: 6.8\"; Dung lượng pin sản phẩm: 5000mAh;. . ưu đãi 1:1. Trúng 8386 quà - Tổng giá trị tới 250 TRIỆU ĐỒNG (Áp dụng từ 10/01 - 02/02/2025). (Xem chi tiết). 2. Đặc biệt Trả góp 3 không: 0% lãi suất - 0 phí chuyển đổi - 0 trả trước (Áp dụng cho Samsung Finance+, công ty tài chính và thẻ tín dụng). 3. Giảm thêm 100.000đ khi mua Samsung Galaxy Fit3 cùng với điện thoại Samsung Galaxy. ưu đãi 2:1. Trả góp tới 06 tháng không lãi suất, trả trước 0 đồng với Samsung Finance+.. (Xem chi tiết). 2. Thu cũ đổi mới lên đời điện thoại Android & Máy tính bảng, tiết kiệm tới 20 triệu đồng. (Xem chi tiết). 3. Giảm 50% tối đa 700.000đ khi mở thẻ tín dụng Vpbank trên SenID. (Xem chi tiết). 4. Giảm tới 500.000đ khi thanh toán thẻ tín dụng NCB. (Xem chi tiết). 5. Giảm đến 150.000đ khi thanh toán qua Muadee. (Xem chi tiết). 6. Miễn phí chuyển đổi trả góp hoặc giảm đến 500.000đ khi mở thẻ TPBank EVO. (Xem chi tiết). 7. Mở thẻ tín dụng VIB - Nhận Voucher 600.000đ. (Xem chi tiết). 8. Tặng miễn phí phôi sim khi mua điện thoại, máy tính bảng, laptop hoặc phụ kiện tại Hoàng Hà Mobile. (Xem chi tiết). 9. Giảm thêm 100.000đ cho tất cả các sản phẩm màn hình khi mua kèm Laptop, MacBook, Máy tính bảng và Điện thoại.. 10. Mở thẻ HSBC - Hoàn tiền tới 2 triệu đồng. (Xem chi tiết)',\n",
       "  'Điện Thoại AI - Samsung Galaxy S24 Ultra - 12GB/256GB - Chính hãng'),\n",
       " ('sản phẩm Điện Thoại AI - Samsung Galaxy S24 Ultra - 12GB/512GB - Chính hãng. có giá hiện tại là 30,490,000 ₫ nhưng trước đây nó có giá là 37,490,000 ₫. màu sắc: Màu Đen, Xám, Màu Tím, Màu Vàng. Độ phân giải camera: 12.0 MP. 200.0 MP (f/1.7) + 50.0 MP (f/3.4) + 12.0 MP (f/2.2) + 10.0 MP (f/2.4); Bộ nhớ trong: 512GB; Số khe SIM: Nano-SIM (4FF),Embedded-SIM; Hệ điều hành: Android 14; Mạng di động: 5G; Vi xử lý: Snapdragon 8 Gen 3; Công nghệ màn hình: Dynamic AMOLED 2X; Độ phân giải: 3120  x  1440; Kích thước màn hình: 6.8\"; Dung lượng pin sản phẩm: 5000mAh;. . ưu đãi 1:1. Trúng 8386 quà - Tổng giá trị tới 250 TRIỆU ĐỒNG (Áp dụng từ 10/01 - 02/02/2025). (Xem chi tiết). 2. Đặc biệt Trả góp 3 không: 0% lãi suất - 0 phí chuyển đổi - 0 trả trước (Áp dụng cho Samsung Finance+, công ty tài chính và thẻ tín dụng). 3. Giảm thêm 100.000đ khi mua Samsung Galaxy Fit3 cùng với điện thoại Samsung Galaxy. ưu đãi 2:1. Trả góp tới 06 tháng không lãi suất, trả trước 0 đồng với Samsung Finance+.. (Xem chi tiết). 2. Thu cũ đổi mới lên đời điện thoại Android & Máy tính bảng, tiết kiệm tới 20 triệu đồng. (Xem chi tiết). 3. Giảm 50% tối đa 700.000đ khi mở thẻ tín dụng Vpbank trên SenID. (Xem chi tiết). 4. Giảm tới 500.000đ khi thanh toán thẻ tín dụng NCB. (Xem chi tiết). 5. Giảm đến 150.000đ khi thanh toán qua Muadee. (Xem chi tiết). 6. Miễn phí chuyển đổi trả góp hoặc giảm đến 500.000đ khi mở thẻ TPBank EVO. (Xem chi tiết). 7. Mở thẻ tín dụng VIB - Nhận Voucher 600.000đ. (Xem chi tiết). 8. Tặng miễn phí phôi sim khi mua điện thoại, máy tính bảng, laptop hoặc phụ kiện tại Hoàng Hà Mobile. (Xem chi tiết). 9. Giảm thêm 100.000đ cho tất cả các sản phẩm màn hình khi mua kèm Laptop, MacBook, Máy tính bảng và Điện thoại.. 10. Mở thẻ HSBC - Hoàn tiền tới 2 triệu đồng. (Xem chi tiết)',\n",
       "  'Điện Thoại AI - Samsung Galaxy S24 Ultra - 12GB/512GB - Chính hãng'),\n",
       " ('sản phẩm Điện thoại Samsung Galaxy S23 FE 5G 8GB/128GB . có giá hiện tại là 11,490,000 ₫ nhưng trước đây nó có giá là 14,890,000 ₫. màu sắc: Xám, Màu Tím. Độ phân giải camera: 10MP (F2.4). 50MP (f/1.8) + 12MP (f/2.2) + 8MP (f/2.4); Bộ nhớ trong: 128GB; Số khe SIM: SIM Kép (SIM 1 + SIM 2 or Embedded SIM); Hệ điều hành: Android; Mạng di động: 5G; Vi xử lý: Exynos 2200; Công nghệ màn hình: Dynamic AMOLED 2X; Độ phân giải: 2340 x 1080; Kích thước màn hình: 6.4\"; Dung lượng pin sản phẩm: 4500mAh;. . ưu đãi 1:1. Trúng 8386 quà - Tổng giá trị tới 250 TRIỆU ĐỒNG (Áp dụng từ 10/01 - 02/02/2025). (Xem chi tiết). 2. Giảm thêm 1 triệu đồng khi mua Watch6 Classic 43mm BT (R950) hoặc Watch6 Classic 47mm BT (R960) cùng với Flip6, Fold6, Flip5, Fold5, S24 series, S23 Ultra, S23 FE, A35, A55. 3. Đặc biệt Trả góp 3 không: 0% lãi suất - 0 phí chuyển đổi - 0 trả trước (Áp dụng cho Samsung Finance+, công ty tài chính và thẻ tín dụng). 4. Giảm thêm 100.000đ khi mua Samsung Galaxy Fit3 cùng với điện thoại Samsung Galaxy. ưu đãi 2:1. Trả góp tới 06 tháng không lãi suất, trả trước 0 đồng với Samsung Finance+.. (Xem chi tiết). 2. Thu cũ đổi mới lên đời điện thoại Android & Máy tính bảng, tiết kiệm tới 20 triệu đồng. (Xem chi tiết). 3. Giảm 50% tối đa 700.000đ khi mở thẻ tín dụng Vpbank trên SenID. (Xem chi tiết). 4. Giảm tới 500.000đ khi thanh toán thẻ tín dụng NCB. (Xem chi tiết). 5. Giảm đến 150.000đ khi thanh toán qua Muadee. (Xem chi tiết). 6. Miễn phí chuyển đổi trả góp hoặc giảm đến 500.000đ khi mở thẻ TPBank EVO. (Xem chi tiết). 7. Mở thẻ tín dụng VIB - Nhận Voucher 600.000đ. (Xem chi tiết). 8. Tặng miễn phí phôi sim khi mua điện thoại, máy tính bảng, laptop hoặc phụ kiện tại Hoàng Hà Mobile. (Xem chi tiết). 9. Giảm thêm 100.000đ cho tất cả các sản phẩm màn hình khi mua kèm Laptop, MacBook, Máy tính bảng và Điện thoại.. 10. Mở thẻ HSBC - Hoàn tiền tới 2 triệu đồng. (Xem chi tiết)',\n",
       "  'Điện thoại Samsung Galaxy S23 FE 5G 8GB/128GB '),\n",
       " ('sản phẩm Điện thoại  Samsung Galaxy Z Flip5 8GB/512GB . có giá hiện tại là 14,490,000 ₫ nhưng trước đây nó có giá là 29,990,000 ₫. màu sắc: Xanh, Xám, Kem, Màu Tím. Hệ điều hành: Android 13; Bộ nhớ trong: 512GB; Số khe SIM: 1 Nano SIM & 1 eSIM; Độ phân giải camera: 10 MP. 12 MP (f/1.8) x 12 MP (f/2.2); Mạng di động: 5G; Vi xử lý: Snapdragon 8 Gen 2; Công nghệ màn hình: AMOLED; Độ phân giải: MH Chính: 2640 x 1080. MH Phụ: 748 x 720; Kích thước màn hình: 6.7\" - 3.4\"; Dung lượng pin sản phẩm: 3700mAh;. . ưu đãi 1:1. Trúng 8386 quà - Tổng giá trị tới 250 TRIỆU ĐỒNG (Áp dụng từ 10/01 - 02/02/2025). (Xem chi tiết). 2. Giảm thêm 1 triệu đồng khi mua Watch6 Classic 43mm BT (R950) hoặc Watch6 Classic 47mm BT (R960) cùng với Flip6, Fold6, Flip5, Fold5, S24 series, S23 Ultra, S23 FE, A35, A55. 3. Đặc biệt Trả góp 3 không: 0% lãi suất - 0 phí chuyển đổi - 0 trả trước (Áp dụng cho Samsung Finance+, công ty tài chính và thẻ tín dụng). 4. Giảm thêm 100.000đ khi mua Samsung Galaxy Fit3 cùng với điện thoại Samsung Galaxy. ưu đãi 2:1. Trả góp tới 06 tháng không lãi suất, trả trước 0 đồng với Samsung Finance+.. (Xem chi tiết). 2. Thu cũ đổi mới lên đời điện thoại Android & Máy tính bảng, tiết kiệm tới 20 triệu đồng. (Xem chi tiết). 3. Giảm 50% tối đa 700.000đ khi mở thẻ tín dụng Vpbank trên SenID. (Xem chi tiết). 4. Giảm tới 500.000đ khi thanh toán thẻ tín dụng NCB. (Xem chi tiết). 5. Giảm đến 150.000đ khi thanh toán qua Muadee. (Xem chi tiết). 6. Miễn phí chuyển đổi trả góp hoặc giảm đến 500.000đ khi mở thẻ TPBank EVO. (Xem chi tiết). 7. Mở thẻ tín dụng VIB - Nhận Voucher 600.000đ. (Xem chi tiết). 8. Tặng miễn phí phôi sim khi mua điện thoại, máy tính bảng, laptop hoặc phụ kiện tại Hoàng Hà Mobile. (Xem chi tiết). 9. Giảm thêm 100.000đ cho tất cả các sản phẩm màn hình khi mua kèm Laptop, MacBook, Máy tính bảng và Điện thoại.. 10. Mở thẻ HSBC - Hoàn tiền tới 2 triệu đồng. (Xem chi tiết)',\n",
       "  'Điện thoại  Samsung Galaxy Z Flip5 8GB/512GB '),\n",
       " ('sản phẩm Điện thoại Samsung Galaxy Z Flip5 8GB/256GB. có giá hiện tại là 14,690,000 ₫ nhưng trước đây nó có giá là 25,990,000 ₫. màu sắc: Xanh, Xám, Kem, Màu Tím. Bộ nhớ trong: 256GB; Hệ điều hành: Android 13; Số khe SIM: 1 Nano SIM & 1 eSIM; Độ phân giải camera: 10 MP. 12 MP (f/1.8) x 12 MP (f/2.2); Mạng di động: 5G; Vi xử lý: Snapdragon 8 Gen 2; Công nghệ màn hình: AMOLED; Độ phân giải: MH Chính: 2640 x 1080. MH Phụ: 748 x 720; Kích thước màn hình: 6.7\". 3.4\"; Dung lượng pin sản phẩm: 3700mAh;. . ưu đãi 1:1. Trúng 8386 quà - Tổng giá trị tới 250 TRIỆU ĐỒNG (Áp dụng từ 10/01 - 02/02/2025). (Xem chi tiết). 2. Giảm thêm 1 triệu đồng khi mua Watch6 Classic 43mm BT (R950) hoặc Watch6 Classic 47mm BT (R960) cùng với Flip6, Fold6, Flip5, Fold5, S24 series, S23 Ultra, S23 FE, A35, A55. 3. Đặc biệt Trả góp 3 không: 0% lãi suất - 0 phí chuyển đổi - 0 trả trước (Áp dụng cho Samsung Finance+, công ty tài chính và thẻ tín dụng). 4. Giảm thêm 100.000đ khi mua Samsung Galaxy Fit3 cùng với điện thoại Samsung Galaxy. ưu đãi 2:1. Trả góp tới 06 tháng không lãi suất, trả trước 0 đồng với Samsung Finance+.. (Xem chi tiết). 2. Thu cũ đổi mới lên đời điện thoại Android & Máy tính bảng, tiết kiệm tới 20 triệu đồng. (Xem chi tiết). 3. Giảm 50% tối đa 700.000đ khi mở thẻ tín dụng Vpbank trên SenID. (Xem chi tiết). 4. Giảm tới 500.000đ khi thanh toán thẻ tín dụng NCB. (Xem chi tiết). 5. Giảm đến 150.000đ khi thanh toán qua Muadee. (Xem chi tiết). 6. Miễn phí chuyển đổi trả góp hoặc giảm đến 500.000đ khi mở thẻ TPBank EVO. (Xem chi tiết). 7. Mở thẻ tín dụng VIB - Nhận Voucher 600.000đ. (Xem chi tiết). 8. Tặng miễn phí phôi sim khi mua điện thoại, máy tính bảng, laptop hoặc phụ kiện tại Hoàng Hà Mobile. (Xem chi tiết). 9. Giảm thêm 100.000đ cho tất cả các sản phẩm màn hình khi mua kèm Laptop, MacBook, Máy tính bảng và Điện thoại.. 10. Mở thẻ HSBC - Hoàn tiền tới 2 triệu đồng. (Xem chi tiết)',\n",
       "  'Điện thoại Samsung Galaxy Z Flip5 8GB/256GB'),\n",
       " ('sản phẩm Điện thoại Samsung Galaxy A35 - 8GB/128GB . có giá hiện tại là 7,290,000 ₫ nhưng trước đây nó có giá là 8,290,000 ₫. màu sắc: Xanh, Màu Đen, Màu Vàng. Độ phân giải camera: 13 MP. 50MP (f/1.8) + 8MP (f/2.2) + 5MP (f/2.4); Hệ điều hành: Android 14; Bộ nhớ trong: 128GB; Số khe SIM: 1 SIM + 1 khe phụ (SIM/thẻ nhớ); Mạng di động: 5G; Vi xử lý: Exynos 1380; Công nghệ màn hình: Super AMOLED; Độ phân giải: 2340 x 1080; Kích thước màn hình: 6.6\"; Dung lượng pin sản phẩm: 5000mAh;. . ưu đãi 1:1. Trúng 8386 quà - Tổng giá trị tới 250 TRIỆU ĐỒNG (Áp dụng từ 10/01 - 02/02/2025). (Xem chi tiết). 2. Giảm thêm 1 triệu đồng khi mua Watch6 Classic 43mm BT (R950) hoặc Watch6 Classic 47mm BT (R960) cùng với Flip6, Fold6, Flip5, Fold5, S24 series, S23 Ultra, S23 FE, A35, A55. 3. Đặc biệt Trả góp 3 không: 0% lãi suất - 0 phí chuyển đổi - 0 trả trước (Áp dụng cho Samsung Finance+, công ty tài chính và thẻ tín dụng). 4. Tặng gói data SKY89C giá 89.000đ. 5. Giảm thêm 100.000đ khi mua Samsung Galaxy Fit3 cùng với điện thoại Samsung Galaxy. ưu đãi 2:1. Trả góp tới 06 tháng không lãi suất, trả trước 0 đồng với Samsung Finance+.. (Xem chi tiết). 2. Thu cũ đổi mới lên đời điện thoại Android & Máy tính bảng, tiết kiệm tới 20 triệu đồng. (Xem chi tiết). 3. Giảm 50% tối đa 700.000đ khi mở thẻ tín dụng Vpbank trên SenID. (Xem chi tiết). 4. Giảm tới 500.000đ khi thanh toán thẻ tín dụng NCB. (Xem chi tiết). 5. Giảm đến 150.000đ khi thanh toán qua Muadee. (Xem chi tiết). 6. Miễn phí chuyển đổi trả góp hoặc giảm đến 500.000đ khi mở thẻ TPBank EVO. (Xem chi tiết). 7. Mở thẻ tín dụng VIB - Nhận Voucher 600.000đ. (Xem chi tiết). 8. Tặng miễn phí phôi sim khi mua điện thoại, máy tính bảng, laptop hoặc phụ kiện tại Hoàng Hà Mobile. (Xem chi tiết). 9. Mở thẻ HSBC - Hoàn tiền tới 2 triệu đồng. (Xem chi tiết). 10. Giảm thêm 100.000đ cho tất cả các sản phẩm màn hình khi mua kèm Laptop, MacBook, Máy tính bảng và Điện thoại.',\n",
       "  'Điện thoại Samsung Galaxy A35 - 8GB/128GB ')]"
      ]
     },
     "execution_count": 7,
     "metadata": {},
     "output_type": "execute_result"
    }
   ],
   "source": [
    "top_k"
   ]
  },
  {
   "cell_type": "code",
   "execution_count": null,
   "metadata": {},
   "outputs": [],
   "source": []
  }
 ],
 "metadata": {
  "kernelspec": {
   "display_name": ".venv",
   "language": "python",
   "name": "python3"
  },
  "language_info": {
   "codemirror_mode": {
    "name": "ipython",
    "version": 3
   },
   "file_extension": ".py",
   "mimetype": "text/x-python",
   "name": "python",
   "nbconvert_exporter": "python",
   "pygments_lexer": "ipython3",
   "version": "3.12.4"
  }
 },
 "nbformat": 4,
 "nbformat_minor": 2
}
