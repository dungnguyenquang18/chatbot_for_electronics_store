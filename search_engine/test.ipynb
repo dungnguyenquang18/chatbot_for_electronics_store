{
 "cells": [
  {
   "cell_type": "code",
   "execution_count": null,
   "metadata": {},
   "outputs": [
    {
     "name": "stderr",
     "output_type": "stream",
     "text": [
      "e:\\chatbot_for_electronics_store\\.venv\\Lib\\site-packages\\tqdm\\auto.py:21: TqdmWarning: IProgress not found. Please update jupyter and ipywidgets. See https://ipywidgets.readthedocs.io/en/stable/user_install.html\n",
      "  from .autonotebook import tqdm as notebook_tqdm\n"
     ]
    }
   ],
   "source": []
  },
  {
   "cell_type": "code",
   "execution_count": 7,
   "metadata": {},
   "outputs": [],
   "source": [
    "import torch\n",
    "a = torch.tensor([100])"
   ]
  },
  {
   "cell_type": "code",
   "execution_count": 14,
   "metadata": {},
   "outputs": [],
   "source": [
    "b = a.item()\n"
   ]
  },
  {
   "cell_type": "code",
   "execution_count": 15,
   "metadata": {},
   "outputs": [
    {
     "data": {
      "text/plain": [
       "100"
      ]
     },
     "execution_count": 15,
     "metadata": {},
     "output_type": "execute_result"
    }
   ],
   "source": [
    "b"
   ]
  },
  {
   "cell_type": "code",
   "execution_count": 5,
   "metadata": {},
   "outputs": [
    {
     "name": "stdout",
     "output_type": "stream",
     "text": [
      "[('Điện thoại iPhone 15 Pro Max (512GB) - Chính hãng VN/A', <built-in method item of Tensor object at 0x000002797A235C70>), ('Điện thoại iPhone 15 Pro Max (256GB) - Chính hãng VN/A', <built-in method item of Tensor object at 0x000002797A234500>), ('Điện thoại iPhone 15 Pro Max (1TB) - Chính hãng VN/A', <built-in method item of Tensor object at 0x000002797A236D00>), ('iPhone 16 Pro Max (512GB) - Chính hãng VN/A', <built-in method item of Tensor object at 0x000002797A2348C0>), ('iPhone 16 Pro Max (256GB) - Chính hãng VN/A', <built-in method item of Tensor object at 0x000002797A2349B0>), ('iPhone 16 Pro Max (1TB) - Chính hãng VN/A', <built-in method item of Tensor object at 0x000002797A2345A0>), ('iPhone 16 Pro (512GB) - Chính hãng VN/A', <built-in method item of Tensor object at 0x000002797A235040>), ('iPhone 16 Pro (256GB) - Chính hãng VN/A', <built-in method item of Tensor object at 0x000002797A237CA0>), ('MacBook Pro 16 inch M4 Max 16CPU 40GPU 48GB/1TB - Chính hãng Apple Việt Nam', <built-in method item of Tensor object at 0x000002797A237D40>), ('MacBook Pro 16 inch M1 Max 10CPU 32GPU 32GB/1TB - Chính hãng Apple Việt Nam', <built-in method item of Tensor object at 0x000002797A235C20>)]\n"
     ]
    }
   ],
   "source": [
    "print(new_top_k)"
   ]
  },
  {
   "cell_type": "code",
   "execution_count": 6,
   "metadata": {},
   "outputs": [
    {
     "data": {
      "text/plain": [
       "[('sản phẩm iPhone 16 Pro Max (256GB) - Chính hãng VN/A. có giá hiện tại là 32,790,000 ₫ nhưng trước đây nó có giá là 33,690,000 ₫. màu sắc: Titan Tự Nhiên, Titan Sa Mạc, Titan Đen, Titan Trắng. Độ phân giải camera: Camera 12MP, khẩu độ ƒ/1.9. 48MP (ƒ/1.78) x 12MP (ƒ/1.6) x 48MP (ƒ/2.2) x 12MP (ƒ/2.8); Hệ điều hành: iOS 18; Bộ nhớ trong: 256GB; Số khe SIM: 1 Nano SIM; Mạng di động: 5G; Vi xử lý: Apple A18 Pro; Công nghệ màn hình: Super Retina XDR; Độ phân giải: 2868 x 1320; Kích thước màn hình: 6.9\";. . ưu đãi 1:1. Trúng 8386 quà - Tổng giá trị tới 250 TRIỆU ĐỒNG (Áp dụng từ 10/01 - 02/02/2025). (Xem chi tiết). 2. Trúng Vinfast VF3 khi sắm iPhone 16 Series tại Hoàng Hà Mobile - (Áp dụng từ nay đến 31/03/2025). (Xem chi tiết). 3. Trả góp 0% và Bảo hành đặc quyền 4 KHÔNG: 0 lãi - 0 phí - 0 trả trước - KHÔNG lo máy hỏng (Áp dụng với thẻ tín dụng và công ty tài chính). (Xem chi tiết). 4. Tặng tai nghe AirPods 4 (Chỉ áp dụng cho chương trình thu cũ đổi mới). (Xem chi tiết). ưu đãi 2:1. Giảm ngay 2 triệu đồng khi thanh toán thẻ tín dụng Shinhan Finance Mastercard THE FIRST (Gold). (Xem chi tiết). 2. Giảm tới 500.000đ khi thanh toán thẻ tín dụng NCB. (Xem chi tiết). 3. Miễn phí chuyển đổi trả góp hoặc giảm đến 500.000đ khi mở thẻ TPBank EVO. (Xem chi tiết). 4. Mở thẻ tín dụng VIB - Nhận Voucher 600.000đ. (Xem chi tiết). 5. Giảm ngay 20% giá các gói bảo hành mở rộng: 1 đổi 1 trong 24h; Sửa chữa thay thế miễn phí linh kiện; Bảo hành cả lỗi người dùng. 6. Tặng miễn phí phôi sim khi mua điện thoại, máy tính bảng, laptop hoặc phụ kiện tại Hoàng Hà Mobile. (Xem chi tiết). 7. Mở thẻ HSBC - Hoàn tiền tới 2 triệu đồng. (Xem chi tiết)',\n",
       "  'iPhone 16 Pro Max (256GB) - Chính hãng VN/A'),\n",
       " ('sản phẩm iPhone 16 Pro Max (512GB) - Chính hãng VN/A. có giá hiện tại là 38,890,000 ₫. màu sắc: Titan Tự Nhiên, Titan Sa Mạc, Titan Đen, Titan Trắng. Độ phân giải camera: Camera 12MP, khẩu độ ƒ/1.9. 48MP (ƒ/1.78) x 12MP (ƒ/1.6) x 48MP (ƒ/2.2) x 12MP (ƒ/2.8); Hệ điều hành: iOS 18; Bộ nhớ trong: 512GB; Số khe SIM: 1 Nano SIM; Mạng di động: 5G; Vi xử lý: Apple A18 Pro; Công nghệ màn hình: Super Retina XDR; Độ phân giải: 2868 x 1320; Kích thước màn hình: 6.9\";. . ưu đãi 1:1. Trúng 8386 quà - Tổng giá trị tới 250 TRIỆU ĐỒNG (Áp dụng từ 10/01 - 02/02/2025). (Xem chi tiết). 2. Trúng Vinfast VF3 khi sắm iPhone 16 Series tại Hoàng Hà Mobile - (Áp dụng từ nay đến 31/03/2025). (Xem chi tiết). 3. Trả góp 0% và Bảo hành đặc quyền 4 KHÔNG: 0 lãi - 0 phí - 0 trả trước - KHÔNG lo máy hỏng (Áp dụng với thẻ tín dụng và công ty tài chính). (Xem chi tiết). 4. Tặng tai nghe AirPods 4 (Chỉ áp dụng cho chương trình thu cũ đổi mới). (Xem chi tiết). ưu đãi 2:1. Giảm ngay 2 triệu đồng khi thanh toán thẻ tín dụng Shinhan Finance Mastercard THE FIRST (Gold). (Xem chi tiết). 2. Giảm tới 500.000đ khi thanh toán thẻ tín dụng NCB. (Xem chi tiết). 3. Miễn phí chuyển đổi trả góp hoặc giảm đến 500.000đ khi mở thẻ TPBank EVO. (Xem chi tiết). 4. Mở thẻ tín dụng VIB - Nhận Voucher 600.000đ. (Xem chi tiết). 5. Giảm ngay 20% giá các gói bảo hành mở rộng: 1 đổi 1 trong 24h; Sửa chữa thay thế miễn phí linh kiện; Bảo hành cả lỗi người dùng. 6. Tặng miễn phí phôi sim khi mua điện thoại, máy tính bảng, laptop hoặc phụ kiện tại Hoàng Hà Mobile. (Xem chi tiết). 7. Mở thẻ HSBC - Hoàn tiền tới 2 triệu đồng. (Xem chi tiết)',\n",
       "  'iPhone 16 Pro Max (512GB) - Chính hãng VN/A'),\n",
       " ('sản phẩm iPhone 16 Pro Max (1TB) - Chính hãng VN/A. có giá hiện tại là 44,290,000 ₫. màu sắc: Titan Tự Nhiên, Titan Sa Mạc, Titan Đen, Titan Trắng. Số khe SIM: 1 Nano SIM; Bộ nhớ trong: 1TB; Hệ điều hành: iOS 18; Độ phân giải camera: Camera 12MP, khẩu độ ƒ/1.9. 48MP (ƒ/1.78) x 12MP (ƒ/1.6) x 48MP (ƒ/2.2) x 12MP (ƒ/2.8); Mạng di động: 5G; Vi xử lý: Apple A18 Pro; Công nghệ màn hình: Super Retina XDR; Độ phân giải: 2868 x 1320; Kích thước màn hình: 6.9\";. . ưu đãi 1:1. Trúng 8386 quà - Tổng giá trị tới 250 TRIỆU ĐỒNG (Áp dụng từ 10/01 - 02/02/2025). (Xem chi tiết). 2. Trúng Vinfast VF3 khi sắm iPhone 16 Series tại Hoàng Hà Mobile - (Áp dụng từ nay đến 31/03/2025). (Xem chi tiết). 3. Trả góp 0% và Bảo hành đặc quyền 4 KHÔNG: 0 lãi - 0 phí - 0 trả trước - KHÔNG lo máy hỏng (Áp dụng với thẻ tín dụng và công ty tài chính). (Xem chi tiết). 4. Tặng tai nghe AirPods 4 (Chỉ áp dụng cho chương trình thu cũ đổi mới). (Xem chi tiết). ưu đãi 2:1. Giảm ngay 2 triệu đồng khi thanh toán thẻ tín dụng Shinhan Finance Mastercard THE FIRST (Gold). (Xem chi tiết). 2. Giảm tới 500.000đ khi thanh toán thẻ tín dụng NCB. (Xem chi tiết). 3. Miễn phí chuyển đổi trả góp hoặc giảm đến 500.000đ khi mở thẻ TPBank EVO. (Xem chi tiết). 4. Mở thẻ tín dụng VIB - Nhận Voucher 600.000đ. (Xem chi tiết). 5. Giảm ngay 20% giá các gói bảo hành mở rộng: 1 đổi 1 trong 24h; Sửa chữa thay thế miễn phí linh kiện; Bảo hành cả lỗi người dùng. 6. Tặng miễn phí phôi sim khi mua điện thoại, máy tính bảng, laptop hoặc phụ kiện tại Hoàng Hà Mobile. (Xem chi tiết). 7. Mở thẻ HSBC - Hoàn tiền tới 2 triệu đồng. (Xem chi tiết)',\n",
       "  'iPhone 16 Pro Max (1TB) - Chính hãng VN/A'),\n",
       " ('sản phẩm Điện thoại iPhone 15 Pro Max (256GB) - Chính hãng VN/A. có giá hiện tại là 28,790,000 ₫. màu sắc: Titan Xanh, Titan Tự Nhiên, Titan Đen, Titan Trắng. Độ phân giải camera: Camera trước TrueDepth 12MP, khẩu độ ƒ/1.9. 48MP (ƒ/1.78) x 12MP (ƒ/2.2) x 12MP (ƒ/2.8); Hệ điều hành: iOS 17; Bộ nhớ trong: 256GB; Mạng di động: 5G; Số khe SIM: SIM kép (nano SIM và eSIM). Hỗ trợ hai eSIM; Vi xử lý: Apple A17 Pro; Công nghệ màn hình: Super Retina XDR; Độ phân giải: 2796 x 1290; Kích thước màn hình: 6.7\"; Dung lượng pin sản phẩm: 4422mAh;. . ưu đãi 1:1. Trúng 8386 quà - Tổng giá trị tới 250 TRIỆU ĐỒNG (Áp dụng từ 10/01 - 02/02/2025). (Xem chi tiết). 2. Trả góp 0% và Bảo hành đặc quyền 4 KHÔNG: 0 lãi - 0 phí - 0 trả trước - KHÔNG lo máy hỏng (Áp dụng với thẻ tín dụng và công ty tài chính). (Xem chi tiết). ưu đãi 2:1. Thu cũ đổi mới lên đời điện thoại Android & Máy tính bảng, tiết kiệm tới 20 triệu đồng. (Xem chi tiết). 2. Giảm 50% tối đa 700.000đ khi mở thẻ tín dụng Vpbank trên SenID. (Xem chi tiết). 3. Giảm tới 500.000đ khi thanh toán thẻ tín dụng NCB. (Xem chi tiết). 4. Giảm đến 150.000đ khi thanh toán qua Muadee. (Xem chi tiết). 5. Miễn phí chuyển đổi trả góp hoặc giảm đến 500.000đ khi mở thẻ TPBank EVO. (Xem chi tiết). 6. Mở thẻ tín dụng VIB - Nhận Voucher 600.000đ. (Xem chi tiết). 7. Giảm ngay 20% giá các gói bảo hành mở rộng: 1 đổi 1 trong 24h; Sửa chữa thay thế miễn phí linh kiện; Bảo hành cả lỗi người dùng. 8. Tặng miễn phí phôi sim khi mua điện thoại, máy tính bảng, laptop hoặc phụ kiện tại Hoàng Hà Mobile. (Xem chi tiết). 9. Giảm thêm 100.000đ cho tất cả các sản phẩm màn hình khi mua kèm Laptop, MacBook, Máy tính bảng và Điện thoại.. 10. Mở thẻ HSBC - Hoàn tiền tới 2 triệu đồng. (Xem chi tiết)',\n",
       "  'Điện thoại iPhone 15 Pro Max (256GB) - Chính hãng VN/A'),\n",
       " ('sản phẩm MacBook Pro 16 inch M4 Max 16CPU 40GPU 48GB/1TB - Chính hãng Apple Việt Nam. có giá hiện tại là 99,990,000 ₫. màu sắc: Đen, Bạc. Kết nối không dây: Wi‑Fi 6E. Bluetooth v5.3; Hệ điều hành: macOS; Kích thước: 35,57 x 24,81 x 1,68 cm; Công nghệ CPU: Apple M4; Số hiệu CPU: Apple - M4 Max; RAM: 48GB; Ổ cứng mặc định: 1TB SSD; Kích thước màn hình: 16.2 inch; Độ phân giải: 3456x2234; Trọng lượng: 2.15kg;. . ưu đãi 1:1. Trúng 8386 quà - Tổng giá trị tới 250 TRIỆU ĐỒNG (Áp dụng từ 10/01 - 02/02/2025). (Xem chi tiết). 2. Đặc biệt Trả góp 3 không: 0% lãi suất - 0 phí chuyển đổi - 0 trả trước (Áp dụng cho công ty tài chính và thẻ tín dụng). ưu đãi 2:1. Mở thẻ HSBC - Hoàn tiền tới 2 triệu đồng. (Xem chi tiết). 2. Tặng miễn phí phôi sim khi mua điện thoại, máy tính bảng, laptop hoặc phụ kiện tại Hoàng Hà Mobile. (Xem chi tiết)',\n",
       "  'MacBook Pro 16 inch M4 Max 16CPU 40GPU 48GB/1TB - Chính hãng Apple Việt Nam'),\n",
       " ('sản phẩm iPhone 16 Pro (256GB) - Chính hãng VN/A. có giá hiện tại là 29,990,000 ₫. màu sắc: Titan Tự Nhiên, Titan Sa Mạc, Titan Đen, Titan Trắng. Độ phân giải camera: Camera 12MP, khẩu độ ƒ/1.9. 48MP (ƒ/1.78) x 12MP (ƒ/1.6) x 48MP (ƒ/2.2) x 12MP (ƒ/2.8); Hệ điều hành: iOS 18; Bộ nhớ trong: 256GB; Số khe SIM: 1 Nano SIM; Mạng di động: 5G; Vi xử lý: Apple A18 Pro; Công nghệ màn hình: Super Retina XDR; Độ phân giải: 2622 x 1206; Kích thước màn hình: 6.3\";. . ưu đãi 1:1. Trúng 8386 quà - Tổng giá trị tới 250 TRIỆU ĐỒNG (Áp dụng từ 10/01 - 02/02/2025). (Xem chi tiết). 2. Trúng Vinfast VF3 khi sắm iPhone 16 Series tại Hoàng Hà Mobile - (Áp dụng từ nay đến 31/03/2025). (Xem chi tiết). 3. Trả góp 0% và Bảo hành đặc quyền 4 KHÔNG: 0 lãi - 0 phí - 0 trả trước - KHÔNG lo máy hỏng (Áp dụng với thẻ tín dụng và công ty tài chính). (Xem chi tiết). ưu đãi 2:1. Giảm ngay 2 triệu đồng khi thanh toán thẻ tín dụng Shinhan Finance Mastercard THE FIRST (Gold). (Xem chi tiết). 2. Giảm tới 500.000đ khi thanh toán thẻ tín dụng NCB. (Xem chi tiết). 3. Miễn phí chuyển đổi trả góp hoặc giảm đến 500.000đ khi mở thẻ TPBank EVO. (Xem chi tiết). 4. Mở thẻ tín dụng VIB - Nhận Voucher 600.000đ. (Xem chi tiết). 5. Giảm ngay 20% giá các gói bảo hành mở rộng: 1 đổi 1 trong 24h; Sửa chữa thay thế miễn phí linh kiện; Bảo hành cả lỗi người dùng. 6. Tặng miễn phí phôi sim khi mua điện thoại, máy tính bảng, laptop hoặc phụ kiện tại Hoàng Hà Mobile. (Xem chi tiết). 7. Mở thẻ HSBC - Hoàn tiền tới 2 triệu đồng. (Xem chi tiết)',\n",
       "  'iPhone 16 Pro (256GB) - Chính hãng VN/A'),\n",
       " ('sản phẩm iPhone 16 Pro (512GB) - Chính hãng VN/A. có giá hiện tại là 36,190,000 ₫. màu sắc: Titan Tự Nhiên, Titan Sa Mạc, Titan Đen, Titan Trắng. Độ phân giải camera: Camera 12MP, khẩu độ ƒ/1.9. 48MP (ƒ/1.78) x 12MP (ƒ/1.6) x 48MP (ƒ/2.2) x 12MP (ƒ/2.8); Hệ điều hành: iOS 18; Bộ nhớ trong: 256GB; Số khe SIM: 1 Nano SIM; Mạng di động: 5G; Vi xử lý: Apple A18 Pro; Công nghệ màn hình: Super Retina XDR; Độ phân giải: 2622 x 1206; Kích thước màn hình: 6.3\";. . ưu đãi 1:1. Trúng 8386 quà - Tổng giá trị tới 250 TRIỆU ĐỒNG (Áp dụng từ 10/01 - 02/02/2025). (Xem chi tiết). 2. Trúng Vinfast VF3 khi sắm iPhone 16 Series tại Hoàng Hà Mobile - (Áp dụng từ nay đến 31/03/2025). (Xem chi tiết). 3. Trả góp 0% và Bảo hành đặc quyền 4 KHÔNG: 0 lãi - 0 phí - 0 trả trước - KHÔNG lo máy hỏng (Áp dụng với thẻ tín dụng và công ty tài chính). (Xem chi tiết). ưu đãi 2:1. Giảm ngay 2 triệu đồng khi thanh toán thẻ tín dụng Shinhan Finance Mastercard THE FIRST (Gold). (Xem chi tiết). 2. Giảm tới 500.000đ khi thanh toán thẻ tín dụng NCB. (Xem chi tiết). 3. Miễn phí chuyển đổi trả góp hoặc giảm đến 500.000đ khi mở thẻ TPBank EVO. (Xem chi tiết). 4. Mở thẻ tín dụng VIB - Nhận Voucher 600.000đ. (Xem chi tiết). 5. Giảm ngay 20% giá các gói bảo hành mở rộng: 1 đổi 1 trong 24h; Sửa chữa thay thế miễn phí linh kiện; Bảo hành cả lỗi người dùng. 6. Tặng miễn phí phôi sim khi mua điện thoại, máy tính bảng, laptop hoặc phụ kiện tại Hoàng Hà Mobile. (Xem chi tiết). 7. Mở thẻ HSBC - Hoàn tiền tới 2 triệu đồng. (Xem chi tiết)',\n",
       "  'iPhone 16 Pro (512GB) - Chính hãng VN/A'),\n",
       " ('sản phẩm Điện thoại iPhone 15 Pro Max (1TB) - Chính hãng VN/A. có giá hiện tại là 39,390,000 ₫. màu sắc: Titan Tự Nhiên, Titan Đen, Titan Trắng, Titan Xanh. Độ phân giải camera: Camera trước TrueDepth 12MP, khẩu độ ƒ/1.9. 48MP (ƒ/1.78) x 12MP (ƒ/2.2) x 12MP (ƒ/2.8); Hệ điều hành: iOS 17; Bộ nhớ trong: 1TB; Mạng di động: 5G; Số khe SIM: SIM kép (nano SIM và eSIM). Hỗ trợ hai eSIM; Vi xử lý: Apple A17 Pro; Công nghệ màn hình: Super Retina XDR; Độ phân giải: 2796 x 1290; Kích thước màn hình: 6.7\"; Dung lượng pin sản phẩm: 4422mAh;. . ưu đãi 1:1. Trúng 8386 quà - Tổng giá trị tới 250 TRIỆU ĐỒNG (Áp dụng từ 10/01 - 02/02/2025). (Xem chi tiết). 2. Trả góp 0% và Bảo hành đặc quyền 4 KHÔNG: 0 lãi - 0 phí - 0 trả trước - KHÔNG lo máy hỏng (Áp dụng với thẻ tín dụng và công ty tài chính). (Xem chi tiết). ưu đãi 2:1. Thu cũ đổi mới lên đời điện thoại Android & Máy tính bảng, tiết kiệm tới 20 triệu đồng. (Xem chi tiết). 2. Giảm 50% tối đa 700.000đ khi mở thẻ tín dụng Vpbank trên SenID. (Xem chi tiết). 3. Giảm tới 500.000đ khi thanh toán thẻ tín dụng NCB. (Xem chi tiết). 4. Giảm đến 150.000đ khi thanh toán qua Muadee. (Xem chi tiết). 5. Miễn phí chuyển đổi trả góp hoặc giảm đến 500.000đ khi mở thẻ TPBank EVO. (Xem chi tiết). 6. Mở thẻ tín dụng VIB - Nhận Voucher 600.000đ. (Xem chi tiết). 7. Giảm ngay 20% giá các gói bảo hành mở rộng: 1 đổi 1 trong 24h; Sửa chữa thay thế miễn phí linh kiện; Bảo hành cả lỗi người dùng. 8. Tặng miễn phí phôi sim khi mua điện thoại, máy tính bảng, laptop hoặc phụ kiện tại Hoàng Hà Mobile. (Xem chi tiết). 9. Giảm thêm 100.000đ cho tất cả các sản phẩm màn hình khi mua kèm Laptop, MacBook, Máy tính bảng và Điện thoại.. 10. Mở thẻ HSBC - Hoàn tiền tới 2 triệu đồng. (Xem chi tiết)',\n",
       "  'Điện thoại iPhone 15 Pro Max (1TB) - Chính hãng VN/A'),\n",
       " ('sản phẩm Điện thoại iPhone 15 Pro Max (512GB) - Chính hãng VN/A. có giá hiện tại là 34,390,000 ₫. màu sắc: Titan Tự Nhiên, Titan Đen, Titan Trắng, Titan Xanh. Độ phân giải camera: Camera trước TrueDepth 12MP, khẩu độ ƒ/1.9. 48MP (ƒ/1.78) x 12MP (ƒ/2.2) x 12MP (ƒ/2.8); Hệ điều hành: iOS 17; Bộ nhớ trong: 512GB; Mạng di động: 5G; Số khe SIM: SIM kép (nano SIM và eSIM). Hỗ trợ hai eSIM; Vi xử lý: Apple A17 Pro; Công nghệ màn hình: Super Retina XDR; Độ phân giải: 2796 x 1290; Kích thước màn hình: 6.7\"; Dung lượng pin sản phẩm: 4422mAh;. . ưu đãi 1:1. Trúng 8386 quà - Tổng giá trị tới 250 TRIỆU ĐỒNG (Áp dụng từ 10/01 - 02/02/2025). (Xem chi tiết). 2. Trả góp 0% và Bảo hành đặc quyền 4 KHÔNG: 0 lãi - 0 phí - 0 trả trước - KHÔNG lo máy hỏng (Áp dụng với thẻ tín dụng và công ty tài chính). (Xem chi tiết). ưu đãi 2:1. Thu cũ đổi mới lên đời điện thoại Android & Máy tính bảng, tiết kiệm tới 20 triệu đồng. (Xem chi tiết). 2. Giảm 50% tối đa 700.000đ khi mở thẻ tín dụng Vpbank trên SenID. (Xem chi tiết). 3. Giảm tới 500.000đ khi thanh toán thẻ tín dụng NCB. (Xem chi tiết). 4. Giảm đến 150.000đ khi thanh toán qua Muadee. (Xem chi tiết). 5. Miễn phí chuyển đổi trả góp hoặc giảm đến 500.000đ khi mở thẻ TPBank EVO. (Xem chi tiết). 6. Mở thẻ tín dụng VIB - Nhận Voucher 600.000đ. (Xem chi tiết). 7. Giảm ngay 20% giá các gói bảo hành mở rộng: 1 đổi 1 trong 24h; Sửa chữa thay thế miễn phí linh kiện; Bảo hành cả lỗi người dùng. 8. Tặng miễn phí phôi sim khi mua điện thoại, máy tính bảng, laptop hoặc phụ kiện tại Hoàng Hà Mobile. (Xem chi tiết). 9. Giảm thêm 100.000đ cho tất cả các sản phẩm màn hình khi mua kèm Laptop, MacBook, Máy tính bảng và Điện thoại.. 10. Mở thẻ HSBC - Hoàn tiền tới 2 triệu đồng. (Xem chi tiết)',\n",
       "  'Điện thoại iPhone 15 Pro Max (512GB) - Chính hãng VN/A'),\n",
       " ('sản phẩm MacBook Pro 16 inch M1 Max 10CPU 32GPU 32GB/1TB - Chính hãng Apple Việt Nam. có giá hiện tại là 51,990,000 ₫. màu sắc: Space Gray, Silver. Xung nhịp cơ bản: Đang cập nhật; Khả năng nâng cấp ổ cứng: Có thể nâng cấp RAM và dung lượng ổ cứng tại thời điểm mua; Hệ điều hành: macOS Monterey; Kích thước: 355.7 x 248.1 x 16.8 (mm); Loại RAM: LPDDR4X; Khả năng nâng cấp RAM: Không hỗ trợ nâng cấp; Kết nối không dây: Wi-Fi 6. Bluetooth v5.0; Công nghệ CPU: Apple M1; Số hiệu CPU: Apple - M1 Max; RAM: 32GB; Ổ cứng mặc định: 1TB SSD; Card đồ hoạ rời: GPU tích hợp; Kích thước màn hình: 16 inch; Độ phân giải: 3456x2234; Trọng lượng: 2.14kg;. . ưu đãi 1:1. Trúng 8386 quà - Tổng giá trị tới 250 TRIỆU ĐỒNG (Áp dụng từ 10/01 - 02/02/2025). (Xem chi tiết). 2. Đặc biệt Trả góp 3 không: 0% lãi suất - 0 phí chuyển đổi - 0 trả trước (Áp dụng cho công ty tài chính và thẻ tín dụng). 3. -50% giá RAM và SSD khi mua kèm Laptop, MacBook (Lưu ý: Giảm từ giá niêm yết). (Xem chi tiết). 4. Ưu đãi thu mua tất cả các dòng MacBook cũ với giá tốt nhất (Xem Chi tiết). (Xem chi tiết). ưu đãi 2:1. Giảm 50% tối đa 700.000đ khi mở thẻ tín dụng Vpbank trên SenID. (Xem chi tiết). 2. Giảm tới 500.000đ khi thanh toán thẻ tín dụng NCB. (Xem chi tiết). 3. Giảm đến 150.000đ khi thanh toán qua Muadee. (Xem chi tiết). 4. Miễn phí chuyển đổi trả góp hoặc giảm đến 500.000đ khi mở thẻ TPBank EVO. (Xem chi tiết). 5. Mở thẻ tín dụng VIB - Nhận Voucher 600.000đ. (Xem chi tiết). 6. Giảm thêm 100.000đ cho tất cả các sản phẩm màn hình khi mua kèm Laptop, MacBook, Máy tính bảng và Điện thoại.. 7. Tặng miễn phí phôi sim khi mua điện thoại, máy tính bảng, laptop hoặc phụ kiện tại Hoàng Hà Mobile. (Xem chi tiết). 8. Mở thẻ HSBC - Hoàn tiền tới 2 triệu đồng. (Xem chi tiết)',\n",
       "  'MacBook Pro 16 inch M1 Max 10CPU 32GPU 32GB/1TB - Chính hãng Apple Việt Nam')]"
      ]
     },
     "execution_count": 6,
     "metadata": {},
     "output_type": "execute_result"
    }
   ],
   "source": [
    "top_k"
   ]
  },
  {
   "cell_type": "code",
   "execution_count": null,
   "metadata": {},
   "outputs": [],
   "source": []
  }
 ],
 "metadata": {
  "kernelspec": {
   "display_name": ".venv",
   "language": "python",
   "name": "python3"
  },
  "language_info": {
   "codemirror_mode": {
    "name": "ipython",
    "version": 3
   },
   "file_extension": ".py",
   "mimetype": "text/x-python",
   "name": "python",
   "nbconvert_exporter": "python",
   "pygments_lexer": "ipython3",
   "version": "3.12.4"
  }
 },
 "nbformat": 4,
 "nbformat_minor": 2
}
